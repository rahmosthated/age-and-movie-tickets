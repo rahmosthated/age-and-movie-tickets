{
  "nbformat": 4,
  "nbformat_minor": 0,
  "metadata": {
    "colab": {
      "provenance": [],
      "authorship_tag": "ABX9TyO8R4rpSf96x6IlXCfpbVpE",
      "include_colab_link": true
    },
    "kernelspec": {
      "name": "python3",
      "display_name": "Python 3"
    },
    "language_info": {
      "name": "python"
    }
  },
  "cells": [
    {
      "cell_type": "markdown",
      "metadata": {
        "id": "view-in-github",
        "colab_type": "text"
      },
      "source": [
        "<a href=\"https://colab.research.google.com/github/rahmosthated/age-and-movie-tickets/blob/main/Untitled7.ipynb\" target=\"_parent\"><img src=\"https://colab.research.google.com/assets/colab-badge.svg\" alt=\"Open In Colab\"/></a>"
      ]
    },
    {
      "cell_type": "code",
      "execution_count": 7,
      "metadata": {
        "colab": {
          "base_uri": "https://localhost:8080/"
        },
        "id": "Z9r6UCOnAZxO",
        "outputId": "e5a967c5-885e-498a-89ed-99f0ade267a8"
      },
      "outputs": [
        {
          "output_type": "stream",
          "name": "stdout",
          "text": [
            "Enter your age: 1001\n",
            "Are you a veteran? (yes/no): yes\n",
            "Ticket price is $5.\n"
          ]
        }
      ],
      "source": [
        "# Ask the user for their age\n",
        "age = int(input(\"Enter your age: \"))\n",
        "\n",
        "# Determine the ticket price based on age\n",
        "if age < 12:\n",
        "    price = 5\n",
        "    print(\"Ticket price is $5.\")\n",
        "elif age <= 60:\n",
        "    price = 10\n",
        "    print(\"Ticket price is $10.\")\n",
        "else:\n",
        "    # Senior citizen pricing\n",
        "    price = 7\n",
        "    veteran = input(\"Are you a veteran? (yes/no): \").strip().lower()\n",
        "    if veteran == \"yes\":\n",
        "        price -= 2  # Apply $2 discount for veterans\n",
        "    print(f\"Ticket price is ${price}.\")\n"
      ]
    }
  ]
}